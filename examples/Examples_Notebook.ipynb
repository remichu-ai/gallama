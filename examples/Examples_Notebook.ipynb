{
 "cells": [
  {
   "metadata": {},
   "cell_type": "markdown",
   "source": [
    "# This notebook showcases examples of how the API can be used\n",
    "# OpenAI API REF: https://platform.openai.com/docs/api-reference/"
   ],
   "id": "7cb9e51033d086c"
  },
  {
   "metadata": {},
   "cell_type": "markdown",
   "source": "##",
   "id": "e258c5150b6c007e"
  },
  {
   "metadata": {},
   "cell_type": "markdown",
   "source": "# Setup - Env Parameter",
   "id": "c086bff659741ff9"
  },
  {
   "metadata": {
    "ExecuteTime": {
     "end_time": "2024-08-18T02:08:00.853307Z",
     "start_time": "2024-08-18T02:08:00.671964Z"
    }
   },
   "cell_type": "code",
   "source": [
    "#!pip install openai\n",
    "import os\n",
    "from openai import OpenAI\n",
    "os.environ['OPENAI_BASE_URL'] = 'http://127.0.0.1:8000/v1'\n",
    "os.environ['OPENAI_API_KEY'] = 'NA'\n",
    "client = OpenAI()\n"
   ],
   "id": "8c5297cdea7276be",
   "outputs": [],
   "execution_count": 2
  },
  {
   "metadata": {},
   "cell_type": "markdown",
   "source": "# List all models",
   "id": "3ce3b23e09747c42"
  },
  {
   "metadata": {
    "ExecuteTime": {
     "end_time": "2024-08-18T02:08:01.906450Z",
     "start_time": "2024-08-18T02:08:01.899339Z"
    }
   },
   "cell_type": "code",
   "source": "client.models.list().data",
   "id": "59a241748877707c",
   "outputs": [
    {
     "data": {
      "text/plain": [
       "[Model(id='llama-3.1-8B', created=None, object='model', owned_by='remichu', created_by=1686935002),\n",
       " Model(id='mistral', created=None, object='model', owned_by='remichu', created_by=1686935002)]"
      ]
     },
     "execution_count": 3,
     "metadata": {},
     "output_type": "execute_result"
    }
   ],
   "execution_count": 3
  },
  {
   "metadata": {},
   "cell_type": "markdown",
   "source": "# Basic Chat Completion",
   "id": "7d98f60308e09914"
  },
  {
   "metadata": {
    "ExecuteTime": {
     "end_time": "2024-08-18T02:08:03.797575Z",
     "start_time": "2024-08-18T02:08:02.969451Z"
    }
   },
   "cell_type": "code",
   "source": [
    "client = OpenAI()\n",
    "\n",
    "completion = client.chat.completions.create(\n",
    "  model=\"mistral\",\n",
    "  messages=[\n",
    "    {\"role\": \"system\", \"content\": \"You are a helpful assistant.\"},\n",
    "    {\"role\": \"user\", \"content\": \"Write me a 10 lines poem\"}\n",
    "  ]\n",
    ")\n",
    "\n",
    "print(completion.choices[0].message)"
   ],
   "id": "31b76460fc7d8668",
   "outputs": [
    {
     "name": "stdout",
     "output_type": "stream",
     "text": [
      "ChatCompletionMessage(content=\"In the quiet of the night, stars twinkle bright,\\nGuiding lost souls with their gentle light.\\nWhispers of dreams dance in the moon's soft glow,\\nA symphony of silence, where secrets grow.\\n\\nDaybreak brings a new canvas to unfold,\\nStories untold, waiting to be told.\\nLife's rhythm echoes in every beat,\\nA melody that makes us feel complete.\\n\\nEmbrace each moment, let your spirit soar,\\nFor life is but a fleeting, precious lore.\", refusal=None, role='assistant', function_call=None, tool_calls=None, tool_call_id=None, name=None, artifact_meta=None)\n"
     ]
    }
   ],
   "execution_count": 4
  },
  {
   "metadata": {},
   "cell_type": "markdown",
   "source": "# Basic Chat Completion - With Streaming",
   "id": "a65ece0cdc87735d"
  },
  {
   "metadata": {
    "ExecuteTime": {
     "end_time": "2024-08-18T02:08:05.004365Z",
     "start_time": "2024-08-18T02:08:04.021943Z"
    }
   },
   "cell_type": "code",
   "source": [
    "messages = [\n",
    "    {\"role\": \"user\",\"content\": \"\"\"Write me a 10 lines poem\"\"\"}]\n",
    "\n",
    "completion = client.chat.completions.create(\n",
    "  model=\"mistral\",\n",
    "  messages=messages,\n",
    "  stream=True,\n",
    "  temperature=0.1,\n",
    ")\n",
    "\n",
    "for chunk in completion:\n",
    "  #print(chunk)\n",
    "  print(chunk.choices[0].delta.content, end='')"
   ],
   "id": "bd9346112e039a1d",
   "outputs": [
    {
     "name": "stdout",
     "output_type": "stream",
     "text": [
      "In the quiet of the night, stars twinkle bright,\n",
      "Guiding dreams that dance in the soft moonlight.\n",
      "Whispers of wind through leaves, a gentle sigh,\n",
      "Nature's lullaby as day and night collide.\n",
      "\n",
      "Life's tapestry woven with threads unseen,\n",
      "A journey through time, a story yet to be gleaned.\n",
      "Embrace each moment, let your spirit soar,\n",
      "For life is but a fleeting, precious bore.\n",
      "\n",
      "So here's to love, laughter, and dreams afloat,\n",
      "To memories made and those yet to be wrote.\n",
      "May you find joy in every sunlit day,\n",
      "And peace within yourself come what may."
     ]
    }
   ],
   "execution_count": 5
  },
  {
   "metadata": {},
   "cell_type": "markdown",
   "source": "# Tool Usage",
   "id": "69e8ad2d767a9a53"
  },
  {
   "metadata": {
    "ExecuteTime": {
     "end_time": "2024-08-18T02:08:08.812321Z",
     "start_time": "2024-08-18T02:08:06.668454Z"
    }
   },
   "cell_type": "code",
   "source": [
    "client = OpenAI()\n",
    "\n",
    "tools = [\n",
    "  {\n",
    "    \"type\": \"function\",\n",
    "    \"function\": {\n",
    "      \"name\": \"get_current_weather\",\n",
    "      \"description\": \"Get the current weather in a given location\",\n",
    "      \"parameters\": {\n",
    "        \"type\": \"object\",\n",
    "        \"properties\": {\n",
    "          \"location\": {\n",
    "            \"type\": \"string\",\n",
    "            \"description\": \"The city and state, e.g. San Francisco, CA\",\n",
    "          },\n",
    "          \"unit\": {\"type\": \"string\", \"enum\": [\"celsius\", \"fahrenheit\"]},\n",
    "        },\n",
    "        \"required\": [\"location\"],\n",
    "      },\n",
    "    }\n",
    "  }\n",
    "]\n",
    "messages = [{\"role\": \"user\", \"content\": \"What's the weather like in Boston and Hanoi today?\"}]\n",
    "completion = client.chat.completions.create(\n",
    "  model=\"gpt-4o\",\n",
    "  messages=messages,\n",
    "  tools=tools,\n",
    "  tool_choice=\"auto\"\n",
    ")\n",
    "\n",
    "print(completion)\n"
   ],
   "id": "745382b372eb270a",
   "outputs": [
    {
     "name": "stdout",
     "output_type": "stream",
     "text": [
      "ChatCompletion(id='cmpl-ead7d6a7a85044668fcbb3538e9f452a', choices=[Choice(finish_reason='tool_calls', index=0, logprobs=None, message=ChatCompletionMessage(content=None, refusal=None, role='assistant', function_call=None, tool_calls=[ChatCompletionMessageToolCall(id='call_7571fc3272a14fecaaa1a8a4e75525dc', function=Function(arguments='{\"location\": \"Boston\", \"unit\": null}', name='get_current_weather'), type='function', index=0), ChatCompletionMessageToolCall(id='call_a4b1c2806f6f43db929dcd01a5f05c70', function=Function(arguments='{\"location\": \"Hanoi\", \"unit\": null}', name='get_current_weather'), type='function', index=1)], tool_call_id=None, name=None, artifact_meta=None))], created=1723946888, model='llama-3.1-8B', object='chat.completion', service_tier=None, system_fingerprint=None, usage=CompletionUsage(completion_tokens=72, prompt_tokens=896, total_tokens=968))\n"
     ]
    }
   ],
   "execution_count": 6
  },
  {
   "metadata": {},
   "cell_type": "markdown",
   "source": "# Thinking Template (Gallama Only)",
   "id": "116b150e1e0e715c"
  },
  {
   "metadata": {
    "ExecuteTime": {
     "end_time": "2024-08-18T02:08:10.066388Z",
     "start_time": "2024-08-18T02:08:10.064582Z"
    }
   },
   "cell_type": "code",
   "source": [
    "# user can define \n",
    "\n",
    "thinking_template =\"\"\"\n",
    "<chain_of_thought>\n",
    "  <problem>{problem_statement}</problem>\n",
    "  <initial_state>{initial_state}</initial_state>\n",
    "  <steps>\n",
    "    <step>{action1}</step>\n",
    "    <step>{action2}</step>\n",
    "    <!-- Add more steps as needed -->\n",
    "  </steps>\n",
    "  <answer>Provide the answer</answer>\n",
    "  <final_answer>Only the final answer, no need to provide the step by step problem solving</final_answer>\n",
    "</chain_of_thought>\n",
    "\"\"\""
   ],
   "id": "480fa12eefca3c3a",
   "outputs": [],
   "execution_count": 7
  },
  {
   "cell_type": "code",
   "id": "initial_id",
   "metadata": {
    "collapsed": true,
    "ExecuteTime": {
     "end_time": "2024-08-18T02:08:12.595444Z",
     "start_time": "2024-08-18T02:08:10.833365Z"
    }
   },
   "source": [
    "messages = [\n",
    "    {\"role\": \"user\",\"content\": \"\"\"\n",
    "I went to the market and bought 10 apples. I gave 2 apples to the neighbor and 2 to the repairman. I then went and bought 5 more apples and ate 1. How many apples did I remain with?\n",
    "\"\"\"}                    \n",
    "]\n",
    "\n",
    "\n",
    "completion = client.chat.completions.create(\n",
    "  model=\"mistral\",\n",
    "  messages=messages,\n",
    "  temperature=0.1,\n",
    "  max_tokens= 200,\n",
    "  #tools=tools,\n",
    "  #tool_choice=\"auto\",\n",
    "  # stream=True,\n",
    "  extra_body={\n",
    "    \"thinking_template\": thinking_template,\n",
    "  },\n",
    ")\n",
    "\n",
    "print(completion.choices[0].message.content)\n",
    "\n",
    "# for chunk in completion:\n",
    "#     print(chunk)"
   ],
   "outputs": [
    {
     "name": "stdout",
     "output_type": "stream",
     "text": [
      "The user has 10 APPLES LEFT.\n"
     ]
    }
   ],
   "execution_count": 8
  },
  {
   "metadata": {},
   "cell_type": "markdown",
   "source": "## Mixture of Agents",
   "id": "505fb323bc180702"
  },
  {
   "metadata": {
    "ExecuteTime": {
     "end_time": "2024-08-18T02:08:18.082320Z",
     "start_time": "2024-08-18T02:08:13.945240Z"
    }
   },
   "cell_type": "code",
   "source": [
    "messages = [{\"role\": \"user\", \"content\": \"Cat or Dog is faster, in term of reaction speed?\"}]\n",
    "\n",
    "completion = client.chat.completions.create(\n",
    "  #model=\"llama3.1-8B\",\n",
    "  model=\"llama-3.1-8B\",\n",
    "  messages=messages,\n",
    "  extra_body={\n",
    "    \"mixture_of_agents\": {\n",
    "        \"agent_list\": [\"mistral\", \"llama-3.1-8B\"],\n",
    "        \"master_agent\": \"llama-3.1-8B\",\n",
    "    }\n",
    "  },\n",
    ")\n",
    "\n",
    "print(completion.choices[0].message.content)"
   ],
   "id": "5bb803febb260748",
   "outputs": [
    {
     "name": "stdout",
     "output_type": "stream",
     "text": [
      "When it comes to reaction speed, cats generally outperform dogs. Several factors contribute to this difference:\n",
      "\n",
      "1.  **Evolutionary advantage**: As solitary hunters, cats have developed rapid reflexes to catch prey, which has led to adaptations in their brain and nervous system.\n",
      "2.  **Physical attributes**: Cats' flexible spines and muscles enable quicker changes in direction and acceleration, allowing them to react faster to unexpected stimuli.\n",
      "3.  **Visual processing**: Studies suggest that cats possess higher visual acuity and can process visual information more quickly than dogs, enabling them to detect movement and react faster.\n",
      "\n",
      "Research indicates that cats can respond to sounds and movements approximately 50% faster than dogs. For instance, one study discovered that cats reacted to a sudden noise within 100-150 milliseconds, whereas dogs required around 200-250 milliseconds to respond.\n",
      "\n",
      "While dogs excel in scent detection and obedience training, their reaction time may not match that of a cat's. Keep in mind that these distinctions are general trends and may vary based on individual animals and specific circumstances. Nonetheless, cats appear to hold an edge when it comes to reaction speed!\n"
     ]
    }
   ],
   "execution_count": 9
  },
  {
   "metadata": {},
   "cell_type": "markdown",
   "source": "### Mixture of Agents with tools usage",
   "id": "f16c5ad01f850572"
  },
  {
   "metadata": {
    "ExecuteTime": {
     "end_time": "2024-08-18T02:08:25.208523Z",
     "start_time": "2024-08-18T02:08:20.033325Z"
    }
   },
   "cell_type": "code",
   "source": [
    "tools = [\n",
    "  {\n",
    "    \"type\": \"function\",\n",
    "    \"function\": {\n",
    "      \"name\": \"get_current_weather\",\n",
    "      \"description\": \"Get the current weather in a given location\",\n",
    "      \"parameters\": {\n",
    "        \"type\": \"object\",\n",
    "        \"properties\": {\n",
    "          \"location\": {\n",
    "            \"type\": \"string\",\n",
    "            \"description\": \"The city and state, e.g. San Francisco, CA\",\n",
    "          },\n",
    "          \"unit\": {\"type\": \"string\", \"enum\": [\"celsius\", \"fahrenheit\"]},\n",
    "        },\n",
    "        \"required\": [\"location\"],\n",
    "      },\n",
    "    }\n",
    "  }\n",
    "]\n",
    "messages = [{\"role\": \"user\", \"content\": \"What's the weather like in Boston today?\"}]\n",
    "\n",
    "completion = client.chat.completions.create(\n",
    "  model=\"llama-3.1-8B\",\n",
    "  messages=messages,\n",
    "  tools=tools,\n",
    "  tool_choice=\"auto\",\n",
    "  extra_body={\n",
    "    \"mixture_of_agents\": {\n",
    "        \"agent_list\": [\"mistral\", \"llama-3.1-8B\"],\n",
    "        \"master_agent\": \"llama-3.1-8B\",\n",
    "    }\n",
    "  },\n",
    ")\n",
    "\n",
    "print(completion.choices[0].message.tool_calls[0].function)\n",
    "# Function(arguments='{\"location\": \"Boston\"}', name='get_current_weather')"
   ],
   "id": "7fd496d85484165d",
   "outputs": [
    {
     "name": "stdout",
     "output_type": "stream",
     "text": [
      "Function(arguments='{\"location\": \"Boston\"}', name='get_current_weather')\n"
     ]
    }
   ],
   "execution_count": 10
  },
  {
   "metadata": {
    "ExecuteTime": {
     "end_time": "2024-08-18T02:08:27.495400Z",
     "start_time": "2024-08-18T02:08:25.297750Z"
    }
   },
   "cell_type": "code",
   "source": [
    "messages = [\n",
    "    {\"role\": \"user\",\"content\": \"\"\"tell me a 200 words story on llama\"\"\"}]\n",
    "\n",
    "completion = client.chat.completions.create(\n",
    "  model=\"mistral\",\n",
    "  messages=messages,\n",
    "  #tools=tools,\n",
    "  #tool_choice=\"auto\",\n",
    "  stream=True,\n",
    "  temperature=0.1,\n",
    ")\n",
    "\n",
    "# print(completion.choices[0].message.content)\n",
    "for chunk in completion:\n",
    "  #print(chunk)\n",
    "  print(chunk.choices[0].delta.content, end='')"
   ],
   "id": "fd5d7c155ebb7779",
   "outputs": [
    {
     "name": "stdout",
     "output_type": "stream",
     "text": [
      "\n",
      "In the heart of the Andes, where the sun painted vibrant hues on the mountains, lived a young llama named Luna. She was not like the others; her coat was a unique blend of silver and gold, shimmering under the sunlight. Luna was known for her adventurous spirit and her love for exploring the vast landscapes of her home.\n",
      "\n",
      "One day, Lama Alpaca, the wise elder of their herd, shared a tale about a hidden valley filled with lush grass and crystal-clear waterfalls. Intrigued by this story, Luna decided to embark on a journey to find this mystical place. With determination in her eyes and a small pack of provisions on her back, she set off towards the unknown.\n",
      "\n",
      "The journey was long and challenging, but Luna's spirit remained unbroken. She navigated through treacherous terrains, crossed swift rivers, and climbed steep hills. After several days, she finally reached the valley Alpaca had spoken of. It was more beautiful than any story could ever tell. The grass was so green it seemed to glow, and the waterfalls sparkled like diamonds under the sun.\n",
      "\n",
      "Luna felt a sense of peace and contentment wash over her as she grazed in the lush grass. She realized that the true treasure wasn't the valley itself, but the adventure she had experienced along the way. From that day forward, Luna became a beacon of inspiration for her herd, reminding them that life's greatest journeys are those filled with courage, curiosity, and the pursuit of dreams."
     ]
    }
   ],
   "execution_count": 11
  },
  {
   "metadata": {},
   "cell_type": "markdown",
   "source": "# Completion endpoint",
   "id": "f7aab125f7e9d13d"
  },
  {
   "metadata": {
    "ExecuteTime": {
     "end_time": "2024-08-18T02:09:47.329618Z",
     "start_time": "2024-08-18T02:09:47.327968Z"
    }
   },
   "cell_type": "code",
   "source": [
    "prompt = '''\n",
    " <s>[INST]Tell a joke about llama [/INST]                                         \n",
    "'''"
   ],
   "id": "fc0d842776ca4b9b",
   "outputs": [],
   "execution_count": 17
  },
  {
   "metadata": {},
   "cell_type": "markdown",
   "source": "## With Streaming",
   "id": "a4d865e69d50d540"
  },
  {
   "metadata": {
    "ExecuteTime": {
     "end_time": "2024-08-18T02:09:53.777408Z",
     "start_time": "2024-08-18T02:09:53.602650Z"
    }
   },
   "cell_type": "code",
   "source": [
    "for chunk in client.completions.create(\n",
    "  model=\"mistral\",\n",
    "  prompt=prompt,\n",
    "  max_tokens=100,\n",
    "  temperature=0,\n",
    "  stream=True\n",
    "):\n",
    "  print(chunk.choices[0].text)"
   ],
   "id": "46646bcef7e55327",
   "outputs": [
    {
     "name": "stdout",
     "output_type": "stream",
     "text": [
      "Why don\n",
      "'t llamas make\n",
      " good secret keepers?\n",
      "\n",
      "\n",
      "Because they always\n",
      " spit it out!\n"
     ]
    }
   ],
   "execution_count": 19
  },
  {
   "metadata": {},
   "cell_type": "markdown",
   "source": "## No Streaming",
   "id": "3606e9e0040a9851"
  },
  {
   "metadata": {
    "ExecuteTime": {
     "end_time": "2024-08-18T02:10:06.526702Z",
     "start_time": "2024-08-18T02:10:06.291763Z"
    }
   },
   "cell_type": "code",
   "source": [
    "completion = client.completions.create(\n",
    "    model=\"mistral\",\n",
    "    prompt=prompt,\n",
    "    max_tokens=100,\n",
    "    temperature=0\n",
    ")\n",
    "print(completion.choices[0].text)\n"
   ],
   "id": "8e050bb1b34ba895",
   "outputs": [
    {
     "name": "stdout",
     "output_type": "stream",
     "text": [
      "Why don't llamas make good secret keepers?\n",
      "\n",
      "Because they always spit it out!\n"
     ]
    }
   ],
   "execution_count": 21
  },
  {
   "metadata": {},
   "cell_type": "markdown",
   "source": "## Streaming with requests instead of OpenAI",
   "id": "2cb95e8651457a1a"
  },
  {
   "metadata": {
    "ExecuteTime": {
     "end_time": "2024-08-18T02:10:30.349380Z",
     "start_time": "2024-08-18T02:10:30.173325Z"
    }
   },
   "cell_type": "code",
   "source": [
    "import requests\n",
    "\n",
    "url = \"http://127.0.0.1:8000/v1/chat/generate\"\n",
    "headers = {\n",
    "    \"Content-Type\": \"application/json\",\n",
    "    \"Accept\": \"text/event-stream\"\n",
    "}\n",
    "data = {\n",
    "    \"model\": \"mistral\",\n",
    "    \"prompt\": prompt,\n",
    "    \"max_tokens\": 1000,\n",
    "    \"temperature\": 0,\n",
    "    \"stream\": True\n",
    "}\n",
    "\n",
    "response = requests.post(url, json=data, headers=headers, stream=True)\n",
    "\n",
    "for line in response.iter_lines():\n",
    "    if line:\n",
    "        print(f\"Raw data: {line.decode('utf-8')}\")\n",
    "        # Here you would normally parse the JSON, but for now, let's just print the raw data"
   ],
   "id": "83ff4766837092a3",
   "outputs": [
    {
     "name": "stdout",
     "output_type": "stream",
     "text": [
      "Raw data: data: {\"id\": \"cmpl-7f280d3dc4aa41a58bbbde126378e3d8\", \"object\": \"text_completion\", \"created\": 1723947030, \"model\": \"mistral\", \"system_fingerprint\": \"fp_44709d6fcb\", \"choices\": [{\"text\": \"Why don\", \"index\": 0, \"logprobs\": null, \"finish_reason\": null}]}\n",
      "Raw data: data: {\"id\": \"cmpl-7f280d3dc4aa41a58bbbde126378e3d8\", \"object\": \"text_completion\", \"created\": 1723947030, \"model\": \"mistral\", \"system_fingerprint\": \"fp_44709d6fcb\", \"choices\": [{\"text\": \"'t llamas make\", \"index\": 0, \"logprobs\": null, \"finish_reason\": null}]}\n",
      "Raw data: data: {\"id\": \"cmpl-7f280d3dc4aa41a58bbbde126378e3d8\", \"object\": \"text_completion\", \"created\": 1723947030, \"model\": \"mistral\", \"system_fingerprint\": \"fp_44709d6fcb\", \"choices\": [{\"text\": \" good secret keepers?\", \"index\": 0, \"logprobs\": null, \"finish_reason\": null}]}\n",
      "Raw data: data: {\"id\": \"cmpl-7f280d3dc4aa41a58bbbde126378e3d8\", \"object\": \"text_completion\", \"created\": 1723947030, \"model\": \"mistral\", \"system_fingerprint\": \"fp_44709d6fcb\", \"choices\": [{\"text\": \"\\n\\nBecause they always\", \"index\": 0, \"logprobs\": null, \"finish_reason\": null}]}\n",
      "Raw data: data: {\"id\": \"cmpl-7f280d3dc4aa41a58bbbde126378e3d8\", \"object\": \"text_completion\", \"created\": 1723947030, \"model\": \"mistral\", \"system_fingerprint\": \"fp_44709d6fcb\", \"choices\": [{\"text\": \" spit it out!\", \"index\": 0, \"logprobs\": null, \"finish_reason\": null}]}\n",
      "Raw data: data: [DONE]\n"
     ]
    }
   ],
   "execution_count": 23
  },
  {
   "metadata": {},
   "cell_type": "markdown",
   "source": "# Embedding",
   "id": "2fcf3f8e0bb387e4"
  },
  {
   "metadata": {
    "ExecuteTime": {
     "end_time": "2024-08-04T06:02:50.390388Z",
     "start_time": "2024-08-04T06:02:49.726101Z"
    }
   },
   "cell_type": "code",
   "source": [
    "from openai import OpenAI\n",
    "client = OpenAI(base_url=\"http://127.0.0.1:8000/v1\")\n",
    "\n",
    "response = client.embeddings.create(\n",
    "    input=[\"Your text string goes here\", \"test test\"],\n",
    "    model=\"multilingual-e5-large-instruct\"\n",
    "    #model=\"gte-large-en-v1.5\"\n",
    ")\n",
    "\n",
    "print(response.data[0].embedding)"
   ],
   "id": "564de1355747cbb7",
   "outputs": [
    {
     "name": "stdout",
     "output_type": "stream",
     "text": [
      "[0.018757905811071396, 3.4400782169541344e-05, -0.018391599878668785, -0.03940839320421219, 0.03602006286382675, -0.04148412495851517, -0.005986809264868498, 0.05485428497195244, 0.04642925411462784, -0.026450326666235924, 0.02565666474401951, 0.0505196675658226, -0.030540740117430687, -0.018025295808911324, -0.02413039095699787, -0.009653682820498943, -0.03244858235120773, 0.026801370084285736, -0.02996075712144375, -0.01118758786469698, 0.04499455541372299, -0.005719711538404226, -0.0009348427993245423, -0.03614216670393944, -0.03718003258109093, -0.016025876626372337, -0.02181045338511467, -0.03455484285950661, -0.04856603592634201, -0.046856608241796494, 0.009760521352291107, 0.05378589406609535, -0.03968312218785286, -0.04981758072972298, -0.02414565347135067, 0.04981758072972298, 0.0173079464584589, 0.044322993606328964, -0.02976234070956707, 0.048535510897636414, -0.021535724401474, 0.008829494938254356, 0.004204884637147188, -0.006883495487272739, -0.014423288404941559, 0.017826879397034645, 0.039622072130441666, 0.003220438025891781, -0.005364852957427502, 0.021184680983424187, 0.02863289788365364, 0.04514718055725098, -0.033822230994701385, -0.044139839708805084, -0.06251618266105652, 0.03968312218785286, -0.055464792996644974, 0.023336727172136307, -0.04108729213476181, 0.02199360728263855, -0.016025876626372337, -0.03611164167523384, 0.006509558297693729, -0.023733559995889664, -0.043285127729177475, 0.0336696021258831, 0.038981035351753235, 0.03165492042899132, -0.05070281773805618, 0.014102770946919918, -0.006753762252628803, 0.025061417371034622, -0.045055605471134186, -0.01723163202404976, -0.031777024269104004, -0.017735302448272705, 0.019872086122632027, -0.027854498475790024, 0.01478959433734417, -0.014667492359876633, 0.07497057318687439, 0.015644308179616928, 0.004616978578269482, -0.028983941301703453, 0.026816632598638535, 0.019536305218935013, 0.03791264444589615, 0.024405119940638542, 0.028877101838588715, 0.026526641100645065, -0.021291520446538925, 0.05671633780002594, 0.04246094077825546, -0.01797950640320778, -0.03641689568758011, -0.04053783416748047, 0.028388693928718567, 0.03876735642552376, -0.038401052355766296, -0.020696274936199188, -0.04774184897542, -0.019444730132818222, 0.012935171835124493, 0.00322997709736228, -0.01927683874964714, 0.014011194929480553, 0.04053783416748047, 0.02631296217441559, -0.05744894966483116, 0.0039263395592570305, 0.02341304160654545, 0.0173079464584589, -0.0009391354396939278, -0.03376117721199989, -0.030113384127616882, 0.0076046595349907875, 0.003342539770528674, 0.0019746168982237577, -0.00972999632358551, 0.019246313720941544, 0.03864525631070137, 0.03586743772029877, 0.018025295808911324, -0.01005814503878355, 0.06156988814473152, -0.026084020733833313, 0.018406864255666733, 0.020528383553028107, -0.028144491836428642, 0.022146234288811684, 0.012515446171164513, 0.043743010610342026, -0.02330620214343071, -0.031288616359233856, -0.0411788709461689, -0.041392549872398376, 0.00145091419108212, -0.007822154089808464, -0.014331712387502193, 0.04059888422489166, -0.028098702430725098, 0.014224872924387455, 0.02263464219868183, -0.013782253488898277, -0.022161496803164482, -0.056472133845090866, -0.025687189772725105, 0.01768951490521431, -0.01015735324472189, -0.012935171835124493, -0.02461879886686802, -0.025122469291090965, -0.014713280834257603, 0.03574533388018608, 0.013156481087207794, -0.033455923199653625, 0.026648743078112602, 0.04007995128631592, 0.03263173624873161, 0.006635475903749466, -0.03348644822835922, -0.010279455222189426, -0.02658769115805626, -0.00940184760838747, 0.039438918232917786, -0.027121886610984802, 0.04499455541372299, 0.01683480106294155, 0.02413039095699787, -0.045055605471134186, -0.01927683874964714, -0.03165492042899132, 0.04471982643008232, -0.033913806080818176, -0.014881170354783535, 0.04856603592634201, 0.038584206253290176, 0.06007413938641548, 0.028953416272997856, -0.028709212318062782, 0.023657245561480522, 0.04359038174152374, 0.03412748500704765, -0.028037652373313904, -0.03424958512187004, 0.010607603937387466, 0.05464060604572296, 0.025336146354675293, 0.01936841569840908, 0.04429246857762337, 0.0069483621045947075, 0.04261356592178345, -0.027823973447084427, 0.021032053977251053, -0.030556004494428635, 0.04520823433995247, 0.06770551204681396, 0.013148849830031395, -0.04746711999177933, -0.04789447411894798, -0.049542851746082306, 0.019780509173870087, -0.03333382308483124, -0.0007202104898169637, 0.014644598588347435, -0.05378589406609535, -0.04884076490998268, -0.01945999264717102, 0.02693873457610607, -0.0337001271545887, -0.040476784110069275, -0.013606731779873371, 0.02771713398396969, 0.01814739592373371, -0.03479904681444168, -0.02029944211244583, -0.008425031788647175, -0.024191441014409065, 0.017857404425740242, 0.03595901280641556, 0.009043172933161259, 0.02058943547308445, 0.004117123782634735, 0.05659423768520355, 0.058456290513277054, 0.004716186318546534, 0.03116651251912117, 0.048535510897636414, 0.031029148027300835, 0.01701795496046543, 0.013835673220455647, 0.022390438243746758, -0.02619086019694805, -0.031029148027300835, 0.004071335773915052, -0.015407735481858253, -0.02574824169278145, -0.006822444498538971, 0.03699687868356705, 0.03895051032304764, -0.021459411829710007, 0.006593503523617983, -0.027457667514681816, -0.01572062075138092, -0.012065195478498936, -0.00865397322922945, 0.04062941297888756, -0.014827750623226166, 0.023657245561480522, -0.019200526177883148, -0.003277673153206706, 0.04859656095504761, -0.010134458541870117, 0.0068491543643176556, 0.02583981677889824, 0.017826879397034645, 0.02039101906120777, -0.02199360728263855, -0.04203358292579651, -0.03992732614278793, -0.023977763950824738, -0.012996221892535686, -0.015964824706315994, 0.04920707270503044, 0.02350461855530739, 0.02348935604095459, -0.033639077097177505, -0.031868599355220795, -0.014980378560721874, -0.05097755044698715, -0.0439872145652771, -0.017658989876508713, -0.015583256259560585, -0.03305909410119057, -0.0119278309866786, 0.027579769492149353, -0.018010031431913376, -0.04050730913877487, -0.02097100391983986, -0.012286504730582237, 0.03330329805612564, -0.013484629802405834, 0.04261356592178345, -0.022222548723220825, 0.009531580843031406, -0.009127117693424225, 0.04569664224982262, -0.02319936268031597, 0.026526641100645065, -0.013652520254254341, 0.039072610437870026, -0.039835747331380844, 0.060501497238874435, 0.01160731352865696, 0.009981831535696983, 0.0019956030882894993, -0.0383400022983551, 0.012950434349477291, -0.03067810647189617, 0.01188967376947403, -0.03998837620019913, -0.028144491836428642, 0.014003562740981579, -0.002960971323773265, -0.047589220106601715, -0.02029944211244583, -0.013553312048316002, 0.02583981677889824, -0.047863949090242386, 0.04200305789709091, -0.02264990471303463, 0.027564506977796555, 0.03565375879406929, -0.04276619479060173, -0.023825135082006454, -0.028220804408192635, -0.037027403712272644, 0.03351697325706482, -0.02565666474401951, 0.06862127780914307, -0.03843157738447189, -0.004285014234483242, -0.048230256885290146, 0.029502874240279198, 0.023229889571666718, 0.0061775934882462025, 0.030571267008781433, -0.04560506343841553, 0.013110692612826824, -0.022253073751926422, 0.03843157738447189, -0.0049146017991006374, 0.02855658531188965, 0.02481721341609955, -0.019521042704582214, 0.009279745630919933, -0.04313250258564949, 0.005086307879537344, 0.013232794590294361, -0.0006810997147113085, 0.009432372637093067, -0.03376117721199989, -0.012942803092300892, -0.01572062075138092, 0.02312305010855198, -0.06105095520615578, 0.018300024792551994, -0.052076466381549835, 0.013469367288053036, 0.044139839708805084, 0.0014060798566788435, -0.034951671957969666, 0.038523152470588684, 0.015842722728848457, -0.018315287306904793, 0.05305328220129013, 0.026084020733833313, -0.041209395974874496, 0.06257723271846771, -0.01656007207930088, 0.023641983047127724, 0.018467914313077927, 0.052076466381549835, 0.005139727611094713, -0.013843304477632046, -0.007352824788540602, 0.004120939411222935, -0.02928919717669487, -0.006417981814593077, -0.006154699716717005, 0.03492114692926407, 0.016422707587480545, -0.031685445457696915, 0.019063161686062813, 0.0069025736302137375, -0.03235700726509094, -0.0636761486530304, -0.03736318647861481, 0.00903554167598486, -0.028312381356954575, 0.0027339381631463766, -0.02930445969104767, 0.03116651251912117, -0.05024493858218193, -0.037088457494974136, -0.04990915581583977, 0.13821937143802643, 0.016514284536242485, 0.05650265887379646, -0.05555637180805206, 0.0026786106172949076, 0.001370784710161388, 0.02899920381605625, 0.022130971774458885, 0.014110402204096317, 0.03550112992525101, -0.011195219121873379, 0.0006830075872130692, 0.04902391880750656, -0.015583256259560585, 0.04560506343841553, 0.052168041467666626, 0.025961918756365776, 0.04914601892232895, 0.029411299154162407, -0.01230176817625761, 0.018132133409380913, -0.030647579580545425, 0.05018388479948044, 0.037943169474601746, -0.03547060489654541, -0.02123047038912773, -0.023061998188495636, 0.024115128442645073, -0.03269278630614281, 0.03876735642552376, -0.010767862200737, 0.053389061242341995, -0.050855446606874466, -0.012378081679344177, 0.029792867600917816, -0.001515780808404088, 0.032723311334848404, -0.03040337562561035, 0.014469076879322529, -0.013301476836204529, -0.015842722728848457, -0.010271823033690453, -0.026801370084285736, 0.03208227828145027, -0.031044410541653633, 0.029441824182868004, 0.008768443949520588, -0.028770262375473976, -0.02095574140548706, 0.01749109849333763, 0.010149721056222916, 0.016346393153071404, -0.039622072130441666, -0.028785526752471924, -0.011866779997944832, -0.04612399637699127, -0.011683627031743526, -0.03718003258109093, 0.021566251292824745, 0.003098336048424244, 0.045727167278528214, 0.017430048435926437, -0.021077843382954597, -0.02899920381605625, 0.01750636100769043, 0.001508149434812367, -0.015567993745207787, -0.03376117721199989, -0.06514137238264084, -0.031288616359233856, -0.009623156860470772, -0.013789884746074677, -0.01506432332098484, 0.014881170354783535, 0.026435064151883125, -0.010256560519337654, -0.027381353080272675, 0.01263754814863205, 0.015194056555628777, 0.004338433500379324, 0.015751147642731667, -0.04285776987671852, -0.03455484285950661, 0.004399484489113092, 0.03623374179005623, -0.02834290638566017, 0.06538557261228561, 0.019261576235294342, -0.020604697987437248, 0.031197039410471916, 0.013064905069768429, 0.013721202500164509, 0.03574533388018608, 0.052656449377536774, 0.018559491261839867, 0.006631660275161266, 0.019139474257826805, 0.03992732614278793, -0.040751513093709946, -0.046856608241796494, -0.033455923199653625, 0.029792867600917816, -0.022344650700688362, -0.06056254729628563, -0.00608601700514555, -0.05754052475094795, 0.028007125481963158, 0.02965550124645233, 0.056838441640138626, -0.019017372280359268, 6.504550401587039e-05, 0.010119196027517319, 0.027640821412205696, -0.03895051032304764, 0.018391599878668785, 0.032143328338861465, 0.06593503057956696, -0.045727167278528214, 0.01160731352865696, 0.03351697325706482, -0.010973909869790077, 0.02338251657783985, -0.020253654569387436, 0.04059888422489166, -0.03284541517496109, 0.020528383553028107, -0.018712118268013, 0.03687477856874466, 0.00107602309435606, 0.0420946329832077, 0.010371031239628792, -0.04108729213476181, -0.03537902981042862, 0.026694530621170998, 0.038706306368112564, -0.015522205270826817, 0.053297486156225204, -0.02097100391983986, -0.039835747331380844, 0.05866996943950653, -0.005910495761781931, 0.03891998529434204, -0.026160335168242455, -0.00019626929133664817, 0.021642563864588737, 0.012935171835124493, -0.015094849281013012, -0.058334190398454666, 0.0038958140648901463, -0.03284541517496109, 0.03315066918730736, -0.019963663071393967, 0.011576787568628788, 0.023229889571666718, -0.026831895112991333, -0.04700923711061478, 0.016605859622359276, 0.05192383751273155, 0.03397485613822937, -0.04789447411894798, -0.039713647216558456, 0.006318774074316025, 0.0008218031143769622, 0.08675340563058853, 0.019429467618465424, 0.021444149315357208, -0.055159538984298706, 0.031135987490415573, 0.03150229528546333, 0.025961918756365776, -0.03348644822835922, -0.029228145256638527, 0.010088670998811722, 0.03312014415860176, -0.0079518873244524, -0.025992443785071373, -0.0035752966068685055, 0.01907842420041561, -0.03678319975733757, 0.0079518873244524, -0.004533033352345228, 0.012935171835124493, 0.005536558572202921, -0.02358093112707138, -0.02724398858845234, -0.0032070830930024385, 0.01478959433734417, -0.013576206751167774, -0.0006963624618947506, 0.009813941083848476, -0.02414565347135067, 0.10806019604206085, -0.0028560401406139135, 0.022527802735567093, -0.029609713703393936, -0.009218694642186165, 0.013698308728635311, 0.05296170338988304, -0.04218621179461479, -0.029151830822229385, -0.014568284153938293, -0.042521990835666656, -0.015842722728848457, 0.01674322411417961, -0.035317979753017426, -0.04145359992980957, 0.04801657795906067, 0.02582455426454544, 0.02414565347135067, 0.0402325801551342, -0.018315287306904793, -0.04569664224982262, 0.02471037395298481, 0.014537759125232697, 0.03446326404809952, 0.004036994650959969, 0.046185050159692764, 0.03974417224526405, 0.016880588605999947, -0.0467650331556797, 0.019673671573400497, 0.021932555362582207, 0.014888801611959934, -0.02255832776427269, -0.01938367821276188, 0.0014432828174903989, 0.027854498475790024, 0.03229595720767975, -0.018941059708595276, -0.040934666991233826, 0.002463024575263262, -0.00902791041880846, -0.010294717736542225, -0.03919471427798271, -0.0257329773157835, -0.010996803641319275, 0.030739156529307365, 0.04032415524125099, 0.047955527901649475, -0.018712118268013, 0.03208227828145027, 0.0010035251034423709, 0.05274802818894386, -0.03754633665084839, -0.020818376913666725, 0.04343775659799576, -0.04236936196684837, -0.053022757172584534, 0.0201315525919199, 0.01891053467988968, 0.01907842420041561, -0.04569664224982262, 0.023626720532774925, 0.03229595720767975, -0.04148412495851517, -0.04334617778658867, 0.0060364133678376675, -0.04502508044242859, -0.03632532060146332, -0.014988009817898273, 0.03830947354435921, -0.021093105897307396, -0.04078203812241554, -0.02029944211244583, -0.019704196602106094, 0.03199069947004318, 0.04560506343841553, -0.039530493319034576, -0.032784365117549896, -0.024283017963171005, 0.029624976217746735, -0.0039683119393885136, -0.03238753229379654, -0.026450326666235924, 0.08315140008926392, 0.02509194239974022, -0.01825423538684845, -0.013683045282959938, -0.018956322222948074, -0.02901446633040905, -0.05305328220129013, 0.012706230394542217, 0.02068101242184639, -0.020085765048861504, 0.03069336898624897, 0.04261356592178345, -0.032143328338861465, 0.03519587591290474, -0.0031822810415178537, -0.03537902981042862, -0.04539138451218605, 0.032723311334848404, -0.03754633665084839, 0.043651435524225235, -0.028877101838588715, -0.0701475515961647, -0.022497277706861496, -0.03995785117149353, -0.0036000986583530903, -0.026328224688768387, 0.019261576235294342, -0.019307365640997887, -0.016392182558774948, -0.028480270877480507, -0.03235700726509094, -0.017720039933919907, -0.035317979753017426, 0.0411788709461689, 0.06636238843202591, 0.014194346964359283, -0.004521586466580629, -0.055342692881822586, -0.01938367821276188, 0.03910313919186592, -0.02825132943689823, 0.021963082253932953, 0.03293699026107788, -0.04123992100358009, -0.0280681774020195, 0.025687189772725105, -0.011523367837071419, -0.01685006357729435, -0.023641983047127724, 0.010172615759074688, 0.027289777994155884, 0.013690676540136337, 0.02039101906120777, 0.018300024792551994, -0.0005766453687101603, -0.037393711507320404, 0.0238556619733572, -0.009936043061316013, -0.028846576809883118, -0.030739156529307365, -0.04230831190943718, -0.05491533502936363, -0.01768951490521431, -0.03565375879406929, -0.03397485613822937, -0.04130097106099129, 0.008180827833712101, 0.05317538231611252, 0.024267755448818207, -0.013255689293146133, 0.04404826462268829, 0.008730286732316017, -0.013522787019610405, 0.043010398745536804, -0.026343487203121185, -0.03069336898624897, -0.01758267544209957, 0.045421913266181946, -0.0257329773157835, 0.025687189772725105, -0.043285127729177475, 0.04624610021710396, -0.025488775223493576, 0.017109530046582222, -0.020650485530495644, -0.03629479184746742, 0.016041139140725136, -0.026328224688768387, 0.01573588326573372, -0.013835673220455647, -0.03134966641664505, 0.03577585890889168, -0.03547060489654541, 0.026526641100645065, -0.06501927226781845, 0.04053783416748047, -0.043010398745536804, -0.03565375879406929, -0.02844974584877491, -0.04997020959854126, -0.011424160562455654, 0.011149430647492409, -0.04294934868812561, 0.010722074657678604, 0.027213463559746742, 0.02031470648944378, 0.005154990125447512, -0.04746711999177933, -0.02892289124429226, -0.056014250963926315, 0.027747659012675285, -0.042705144733190536, -0.035714808851480484, 0.016132716089487076, 0.04148412495851517, 0.0626382827758789, -0.018544228747487068, 0.061630941927433014, -0.031029148027300835, 0.04276619479060173, -0.06098990514874458, -0.012019407004117966, -0.006635475903749466, -0.017811616882681847, 0.0015272278105840087, -0.021749403327703476, -0.03165492042899132, 0.02993023209273815, -0.009447635151445866, -0.03150229528546333, 0.02368777059018612, 0.017063742503523827, 0.033181194216012955, -0.02171887829899788, -0.03827894851565361, 0.05042808875441551, 0.03974417224526405, -0.03418853506445885, 0.012248348444700241, -0.000505578238517046, 0.004082782659679651, 0.008501345291733742, 0.03226543217897415, -0.011225744150578976, 0.04429246857762337, -0.017094267532229424, 0.04130097106099129, 0.05537321791052818, -0.02631296217441559, -0.03580638766288757, -0.015674833208322525, -0.035531654953956604, 0.01909368671476841, 0.023794610053300858, -0.011675995774567127, 0.030845995992422104, -0.03986627608537674, -0.02817501686513424, -0.008073989301919937, 0.0005084400181658566, -0.03312014415860176, -0.008020569570362568, -0.026053495705127716, 0.007822154089808464, -0.01863580383360386, 0.04331565275788307, 0.007936623878777027, -0.03727160766720772, 0.019505780190229416, -0.03501272201538086, -0.028312381356954575, -0.028846576809883118, 0.0229246336966753, 0.028663424775004387, -0.009661314077675343, 0.013553312048316002, 0.011042592115700245, -0.011546262539923191, 0.024496696889400482, 0.013866198249161243, 0.039835747331380844, -0.010447344742715359, -0.007608475629240274, -0.06398139894008636, -0.011241007596254349, -0.01825423538684845, -0.055647946894168854, 0.004056072793900967, -0.036172691732645035, 0.041209395974874496, 0.03376117721199989, -0.03424958512187004, 0.022420963272452354, -0.013538049533963203, 0.022955158725380898, -0.017384259030222893, -0.03562323376536369, 0.022298861294984818, 0.016499020159244537, -0.001516734715551138, -0.03620321676135063, -0.03287594020366669, 0.039255764335393906, 0.0008861927781254053, -0.0027816342189908028, 0.01436223741620779, 0.027366090565919876, -0.005994440987706184, 0.0004771990643348545, 0.031044410541653633, -0.026602953672409058, -0.021657826378941536, 0.011424160562455654, -0.005712080281227827, 0.010607603937387466, -0.036264266818761826, -0.031181776896119118, 0.02799186296761036, 0.028495533391833305, 0.022955158725380898, -0.019444730132818222, -0.02039101906120777, 0.01917000114917755, 0.03470746800303459, 0.010195509530603886, -0.032051753252744675, 0.05860891938209534, -0.010889964178204536, 0.016804276034235954, -0.02208518423140049, -0.04334617778658867, -0.0016369287623092532, -0.027106624096632004, -0.004006469156593084, -0.040751513093709946, 0.03437168896198273, 0.00973762758076191, 0.0079595185816288, 0.001345982775092125, 0.023641983047127724, -0.01501853484660387, -0.009088961407542229, 0.04377353563904762, -0.02358093112707138, -0.009378952905535698, -0.030907046049833298, 0.04105676710605621, -0.047039762139320374, 0.023229889571666718, -0.05393851920962334, 0.039835747331380844, -0.035531654953956604, 0.05277855321764946, 0.003956865053623915, -0.023901449516415596, -0.016514284536242485, -0.0365084707736969, 0.0730169415473938, -0.016956903040409088, 0.023153575137257576, -0.04004942625761032, -0.012828332372009754, -0.033913806080818176, -0.058822598308324814, -0.02622138522565365, 0.02768660895526409, -0.0266640055924654, -0.04728396609425545, -0.004491060972213745, -0.021673088893294334, 0.025809291750192642, -0.018605278804898262, -0.028861839324235916, 0.030189698562026024, 0.007448216900229454, 0.017796354368329048, 0.0007831692928448319, -0.02909078076481819, 0.005013810005038977, -0.02779344841837883, -0.04371248558163643, 0.022390438243746758, 0.02210044674575329, 0.011355478316545486, -0.007967149838805199, -0.03733266144990921, 0.004078967031091452, 0.027106624096632004, -0.037576865404844284, -0.029502874240279198, 0.029609713703393936, 0.008760812692344189, -0.04484192654490471, 0.02675558254122734, 0.034585367888212204, 0.0014375592581927776, 0.05604477971792221, 0.012133877724409103, 0.05650265887379646, 0.024496696889400482, -0.019108949229121208, -0.03547060489654541, -6.659562495769933e-05, 0.02686242014169693, 0.016361655667424202, 0.02815975435078144, 0.020055240020155907, 0.053663790225982666, -0.04670398309826851, 0.03769896551966667, -0.019612619653344154, 0.019673671573400497, -0.03032706305384636, 0.03574533388018608, 0.01582746021449566, -0.047039762139320374, -0.003138400614261627, 0.013782253488898277, -0.02751871943473816, -0.005059598013758659, 0.049268122762441635, -0.017536887899041176, 0.014568284153938293, -0.04194200783967972, -0.0173079464584589, 0.01627008058130741, -0.019872086122632027, 0.03882840648293495, -0.02619086019694805, 0.026786107569932938, 0.03078494407236576, -0.019719459116458893, 0.02272621914744377, 0.03069336898624897, 0.03516535088419914, 0.0420946329832077, 0.06819391995668411, -0.01984156109392643, 0.02312305010855198, 0.0243440680205822, 0.03455484285950661, 0.04914601892232895, -0.008425031788647175, -0.013324371539056301, -0.01907842420041561, 0.022069919854402542, -0.04294934868812561, 0.052351195365190506, -0.010348137468099594, -0.01889527030289173, 0.03005233407020569, 0.019978925585746765, 0.026450326666235924, 0.014667492359876633, -0.02003997564315796, -0.033181194216012955, 0.03904208540916443, -0.03192964941263199, 0.023351991549134254, 0.021383097395300865, 0.007085726596415043, -0.005960099399089813, -0.014934590086340904, 0.02686242014169693]\n"
     ]
    }
   ],
   "execution_count": 5
  },
  {
   "metadata": {},
   "cell_type": "markdown",
   "source": "# Mixture of Agents",
   "id": "c83d4b00573c9ebb"
  },
  {
   "metadata": {
    "ExecuteTime": {
     "end_time": "2024-08-18T02:11:50.776004Z",
     "start_time": "2024-08-18T02:11:45.975242Z"
    }
   },
   "cell_type": "code",
   "source": [
    "messages = [{\"role\": \"user\", \"content\": \"Cat or Dog is faster, in term of reaction speed?\"}]\n",
    "\n",
    "completion = client.chat.completions.create(\n",
    "  #model=\"llama3.1-8B\",\n",
    "  model=\"llama-3.1-8B\",\n",
    "  messages=messages,\n",
    "  extra_body={\n",
    "    \"mixture_of_agents\": {\n",
    "        \"agent_list\": [\"mistral\", \"llama-3.1-8B\"],\n",
    "        \"master_agent\": \"llama-3.1-8B\",\n",
    "    }\n",
    "  },\n",
    ")\n",
    "\n",
    "print(completion.choices[0].message.content)"
   ],
   "id": "a05c61f48e31be4a",
   "outputs": [
    {
     "name": "stdout",
     "output_type": "stream",
     "text": [
      "**Reaction Speed: Cat vs Dog**\n",
      "\n",
      "When it comes to reaction speed, cats generally outperform dogs. This is due to their evolutionary advantages, physical characteristics, and neurological adaptations.\n",
      "\n",
      "**Key Factors Contributing to Faster Reaction Speed in Cats:**\n",
      "\n",
      "1.  **Evolutionary Advantage:** As solitary hunters, cats rely on stealth and quick reflexes to catch prey. Their brain structure and nervous system have adapted to respond rapidly to potential threats.\n",
      "2.  **Flexibility and Agility:** Cats' flexible spines and muscles enable them to twist and turn quickly, making sharp turns and rapid changes in direction possible.\n",
      "3.  **Eye Movement:** Cats have a higher frequency of eye movements (around 100-150 times per minute), allowing them to track fast-moving objects with greater accuracy.\n",
      "\n",
      "**Studies Supporting Faster Reaction Times in Cats:**\n",
      "\n",
      "*   A study published in \"Animal Behaviour\" found that domestic cats responded significantly faster than dogs in a stimulus-response task, with an average reaction time of around 200 milliseconds for cats versus 400 milliseconds for dogs.\n",
      "*   Another study published in \"Scientific Reports\" used high-speed cameras to measure reaction times to visual stimuli, confirming that cats were faster responders with an average reaction time of around 170 milliseconds compared to 250 milliseconds for dogs.\n",
      "\n",
      "While individual variations exist within both species, these studies suggest that cats tend to have a slight edge over dogs when it comes to reaction speed.\n",
      "\n",
      "Overall, while there may be exceptions depending on individual animals and contexts, research indicates that cats generally possess faster reaction speeds than dogs.\n"
     ]
    }
   ],
   "execution_count": 25
  },
  {
   "metadata": {},
   "cell_type": "markdown",
   "source": "# Mixture of Agents work with streaming",
   "id": "8a3a2ae71ac9317d"
  },
  {
   "metadata": {
    "ExecuteTime": {
     "end_time": "2024-08-18T02:12:16.523731Z",
     "start_time": "2024-08-18T02:12:14.157724Z"
    }
   },
   "cell_type": "code",
   "source": [
    "messages = [\n",
    "    {\"role\": \"user\",\"content\": \"\"\"\n",
    "I went to the market and bought 10 apples. I gave 2 apples to the neighbor and 2 to the repairman. I then went and bought 5 more apples and ate 1. How many apples did I remain with?\n",
    "\"\"\"}                    \n",
    "]\n",
    "\n",
    "\n",
    "completion = client.chat.completions.create(\n",
    "  model=\"mistral\",\n",
    "  messages=messages,\n",
    "  temperature=0.1,\n",
    "  max_tokens= 200,\n",
    "  stream=True,\n",
    "  extra_body={\n",
    "    \"mixture_of_agents\": {\n",
    "        \"agent_list\": [\"mistral\", \"llama-3.1-8B\"],\n",
    "        \"master_agent\": \"llama-3.1-8B\",\n",
    "    }\n",
    "  },\n",
    ")\n",
    "\n",
    "# print(completion.choices[0].message.content)\n",
    "#print(completion)\n",
    "for chunk in completion:\n",
    "  #print(chunk)\n",
    "  print(chunk.choices[0].delta.content, end='')"
   ],
   "id": "169f233ac9197587",
   "outputs": [
    {
     "name": "stdout",
     "output_type": "stream",
     "text": [
      "Initially, you had 10 apples. After giving away 2 to the neighbor and 2 to the repairman, you were left with 6 apples. Subsequently, you purchased another 5 apples, increasing your total to 11 apples. Following this, you consumed one apple, leaving you with a remaining count of 10 - 1 = \\boxed{9} apples."
     ]
    }
   ],
   "execution_count": 27
  },
  {
   "metadata": {},
   "cell_type": "markdown",
   "source": "# Customize Thinking with Mixture of Agents",
   "id": "82982627ce90c655"
  },
  {
   "metadata": {
    "ExecuteTime": {
     "end_time": "2024-08-18T02:12:27.556560Z",
     "start_time": "2024-08-18T02:12:27.554860Z"
    }
   },
   "cell_type": "code",
   "source": [
    "thinking_cat = \"<cat_thinking>What reason could cat be faster?</cat_thinking>\"\n",
    "thinking_dog = \"<dog_thinking>What reason could dog be faster?</dog_thinking>\"\n",
    "\n",
    "# thinking to influence mixture of agents consolidated answer \n",
    "thinking_moa = \"\"\"\n",
    "<synthesis_guide>\n",
    "  <context>Synthesize information from hidden references into a standalone answer.</context>\n",
    "  <question>{question}</question>\n",
    "  <analysis>\n",
    "    <source_evaluation>\n",
    "      <key_points>Core ideas</key_points>\n",
    "      <relevance>Question relevance</relevance>\n",
    "      <credibility>Source reliability</credibility>\n",
    "    </source_evaluation>\n",
    "    <information_synthesis>\n",
    "      <consensus>Consistent information</consensus>\n",
    "      <conflicts>Conflicting points</conflicts>\n",
    "      <evidence_quality>Supporting data quality</evidence_quality>\n",
    "    </information_synthesis>\n",
    "  </analysis>\n",
    "  <strategy>\n",
    "    <key_considerations>Important points to include</key_considerations>\n",
    "    <bias_awareness>Potential source biases</bias_awareness>\n",
    "    <information_gaps>Incomplete areas</information_gaps>\n",
    "  </strategy>\n",
    "  <response>Integrate insights without referencing sources, presenting as a fresh, informed answer.</response>\n",
    "</synthesis_guide>\n",
    "\"\"\""
   ],
   "id": "56804becd1767b67",
   "outputs": [],
   "execution_count": 28
  },
  {
   "metadata": {
    "ExecuteTime": {
     "end_time": "2024-08-18T02:12:53.430427Z",
     "start_time": "2024-08-18T02:12:46.411142Z"
    }
   },
   "cell_type": "code",
   "source": [
    "messages = [\n",
    "    {\"role\": \"user\",\"content\": \"\"\"\n",
    "Is cat or dog faster and why?\n",
    "\"\"\"}                    \n",
    "]\n",
    "\n",
    "\n",
    "completion = client.chat.completions.create(\n",
    "  model=\"mistral\",\n",
    "  messages=messages,\n",
    "  temperature=0.1,\n",
    "  max_tokens= 200,\n",
    "  stream=True,\n",
    "  extra_body={\n",
    "    \"thinking_template\": thinking_moa,\n",
    "    \"mixture_of_agents\": {\n",
    "        \"agent_list\": [\n",
    "            {\n",
    "                \"model\": \"mistral\",\n",
    "                \"thinking_template\": thinking_cat,\n",
    "             },\n",
    "            {\n",
    "                \"model\": \"llama-3.1-8B\",\n",
    "                \"thinking_template\": thinking_dog,\n",
    "            }\n",
    "        ]\n",
    "    }\n",
    "  },\n",
    ")\n",
    "\n",
    "for chunk in completion:\n",
    "  print(chunk.choices[0].delta.content, end='')"
   ],
   "id": "320a4218d10b368f",
   "outputs": [
    {
     "name": "stdout",
     "output_type": "stream",
     "text": [
      "Dogs are generally faster than cats over long distances due to their higher speed capabilities. Some cats may have the potential to be faster due to their unique physical attributes such as lighter weight, shorter legs with longer strides, allowing them to cover more ground with each step. However, cats tend to conserve energy by walking or sprinting rather than maintaining a steady pace over long distances."
     ]
    }
   ],
   "execution_count": 30
  },
  {
   "metadata": {
    "ExecuteTime": {
     "end_time": "2024-08-18T02:12:55.883149Z",
     "start_time": "2024-08-18T02:12:55.765061Z"
    }
   },
   "cell_type": "code",
   "source": [
    "completion = client.chat.completions.create(\n",
    "    model=\"mistral\",\n",
    "    messages=[{\"role\": \"user\", \"content\": \"Is smoking bad for health? Start your answer with 'Yes. Because' or 'No. Because'\"}],\n",
    "    temperature=0.1,\n",
    "    max_tokens=200,\n",
    "    extra_body={\n",
    "        # \"leading_prompt\": leading_prompt,         # prefix the generation with some string\n",
    "        # \"regex_pattern\": regex_pattern,           # define the regex for the whole generation\n",
    "        #\"regex_prefix_pattern\": '(Yes|No)\\.',     # define the regex to match the starting words\n",
    "        \"stop_words\": [\",\"],                       # define the word to stop generation, currently the stop_words is included in generation result\n",
    "    },\n",
    ")\n",
    "print(completion.choices[0].message.content)"
   ],
   "id": "9679b10a4614e0c7",
   "outputs": [
    {
     "name": "stdout",
     "output_type": "stream",
     "text": [
      "Yes. Because smoking causes numerous health problems,\n"
     ]
    }
   ],
   "execution_count": 31
  },
  {
   "metadata": {},
   "cell_type": "code",
   "outputs": [],
   "execution_count": null,
   "source": "",
   "id": "3d5f9621edfe4a58"
  }
 ],
 "metadata": {
  "kernelspec": {
   "display_name": "Python 3",
   "language": "python",
   "name": "python3"
  },
  "language_info": {
   "codemirror_mode": {
    "name": "ipython",
    "version": 2
   },
   "file_extension": ".py",
   "mimetype": "text/x-python",
   "name": "python",
   "nbconvert_exporter": "python",
   "pygments_lexer": "ipython2",
   "version": "2.7.6"
  }
 },
 "nbformat": 4,
 "nbformat_minor": 5
}
