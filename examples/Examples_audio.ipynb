{
 "cells": [
  {
   "metadata": {},
   "cell_type": "code",
   "source": [
    "from openai import OpenAI\n",
    "import os\n",
    "\n",
    "os.environ['OPENAI_BASE_URL'] = 'http://127.0.0.1:8000/v1'\n",
    "os.environ['OPENAI_API_KEY'] = 'NA'\n",
    "client = OpenAI()"
   ],
   "id": "25836a84ea49dea6",
   "outputs": [],
   "execution_count": null
  },
  {
   "metadata": {},
   "cell_type": "markdown",
   "source": "# Audio to Text",
   "id": "668964e33fb5256a"
  },
  {
   "cell_type": "code",
   "id": "initial_id",
   "metadata": {
    "collapsed": true
   },
   "source": [
    "\n",
    "\n",
    "audio_file= open(\"/path/to/file/audio.mp3\", \"rb\")\n",
    "transcription = client.audio.transcriptions.create(\n",
    "    model=\"whisper-1\",\n",
    "    file=audio_file\n",
    ")\n",
    "\n",
    "print(transcription.text)"
   ],
   "outputs": [],
   "execution_count": null
  },
  {
   "metadata": {},
   "cell_type": "markdown",
   "source": "# Text to Audio",
   "id": "6201564597d1751a"
  },
  {
   "metadata": {},
   "cell_type": "code",
   "source": [
    "text = (\n",
    "    '「もし偶然ここに立っているのなら、絶望するだろう」と彼は思った。'\n",
    "    '中國人民不怕邪，不惹事，任何外國不要指望我們會損害主權！'\n",
    "    'Los partidos tradicionales compiten con los populismos.'\n",
    "    'Le dromadaire déambulait tranquillement.'\n",
    "    'ट्रांसपोर्टरों की हड़ताल जारी।'\n",
    "    \"Allora cominciava l'insonnia.\"\n",
    "    'Elabora relatórios de acompanhamento.'\n",
    ")"
   ],
   "id": "98c40b582c2972fe",
   "outputs": [],
   "execution_count": null
  },
  {
   "metadata": {},
   "cell_type": "code",
   "source": [
    "from IPython.display import Audio, display\n",
    "\n",
    "# Define the path to save the audio file\n",
    "speech_file_path = \"speech.wav\"\n",
    "# Generate the audio file\n",
    "response = client.audio.speech.create(\n",
    "    model=\"kokoro\",\n",
    "    voice=\"alloy\",\n",
    "    input=text,  # Ensure 'text' is defined somewhere in your code\n",
    "    response_format=\"wav\",\n",
    "    speed=1.0\n",
    ")\n",
    "response.stream_to_file(speech_file_path)\n",
    "\n",
    "# Display the audio player in the notebook\n",
    "display(Audio(speech_file_path, rate=24000))"
   ],
   "id": "bce09a3b2fdf079",
   "outputs": [],
   "execution_count": null
  },
  {
   "metadata": {},
   "cell_type": "code",
   "source": "",
   "id": "56609ef159581505",
   "outputs": [],
   "execution_count": null
  }
 ],
 "metadata": {
  "kernelspec": {
   "display_name": "Python 3",
   "language": "python",
   "name": "python3"
  },
  "language_info": {
   "codemirror_mode": {
    "name": "ipython",
    "version": 2
   },
   "file_extension": ".py",
   "mimetype": "text/x-python",
   "name": "python",
   "nbconvert_exporter": "python",
   "pygments_lexer": "ipython2",
   "version": "2.7.6"
  }
 },
 "nbformat": 4,
 "nbformat_minor": 5
}
