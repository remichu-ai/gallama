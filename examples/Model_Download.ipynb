{
 "cells": [
  {
   "cell_type": "code",
   "id": "initial_id",
   "metadata": {
    "collapsed": true
   },
   "source": [
    "import os\n",
    "from huggingface_hub import snapshot_download, hf_hub_download\n",
    "os.environ['HF_HUB_ENABLE_HF_TRANSFER']='1'"
   ],
   "outputs": [],
   "execution_count": null
  },
  {
   "metadata": {},
   "cell_type": "markdown",
   "source": "# Download Hugging Face repo for Exllama V2",
   "id": "932b47e7b9e318dc"
  },
  {
   "metadata": {},
   "cell_type": "code",
   "source": [
    "snapshot_download(\n",
    "    repo_id=\"turboderp/Mistral-7B-instruct-v0.3-exl2\",\n",
    "    revision=\"4.0bpw\",\n",
    "    local_dir=\"/home/model/Mistral-7B-instruct-v0.3-4.0bpw-exl2\",\n",
    ")"
   ],
   "id": "fffebb0461cef9c4",
   "outputs": [],
   "execution_count": null
  },
  {
   "metadata": {},
   "cell_type": "markdown",
   "source": "# Download individual file from Hugging Face for GGUF",
   "id": "d6941b143102134e"
  },
  {
   "metadata": {},
   "cell_type": "markdown",
   "source": "## Download Single file",
   "id": "6bdd54c67519ce1a"
  },
  {
   "metadata": {},
   "cell_type": "code",
   "source": [
    "hf_hub_download(\n",
    "    repo_id=\"bartowski/gemma-2-9b-it-GGUF\", \n",
    "    filename=\"gemma-2-9b-it-Q4_K_M.gguf\",\n",
    "    local_dir=\"/home/remichu/work/ML/model/gemma-2-9b-it-gguf-Q4_K_M/\"\n",
    ")"
   ],
   "id": "60f843c0955f894b",
   "outputs": [],
   "execution_count": null
  },
  {
   "metadata": {},
   "cell_type": "markdown",
   "source": "## Download using pattern in name",
   "id": "bd2c0ff8e6d7d63f"
  },
  {
   "metadata": {},
   "cell_type": "code",
   "source": [
    "snapshot_download(\n",
    "    repo_id=\"bartowski/WizardLM-2-8x22B-GGUF\", \n",
    "    allow_patterns=\"WizardLM-2-8x22B-IQ4_XS*\",\n",
    "    local_dir=\"/home/remichu/work/ML/model/WizardLM-2-8x22B-GGUF-IQ4_XS/\",\n",
    ")"
   ],
   "id": "5dbfeb3120a8c38a",
   "outputs": [],
   "execution_count": null
  },
  {
   "metadata": {},
   "cell_type": "code",
   "source": "",
   "id": "98cceb8ea3bc0c4e",
   "outputs": [],
   "execution_count": null
  }
 ],
 "metadata": {
  "kernelspec": {
   "display_name": "Python 3",
   "language": "python",
   "name": "python3"
  },
  "language_info": {
   "codemirror_mode": {
    "name": "ipython",
    "version": 2
   },
   "file_extension": ".py",
   "mimetype": "text/x-python",
   "name": "python",
   "nbconvert_exporter": "python",
   "pygments_lexer": "ipython2",
   "version": "2.7.6"
  }
 },
 "nbformat": 4,
 "nbformat_minor": 5
}
